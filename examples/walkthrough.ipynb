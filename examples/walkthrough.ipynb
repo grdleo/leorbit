{
 "cells": [
  {
   "cell_type": "markdown",
   "metadata": {},
   "source": [
    "# Walkthrough"
   ]
  },
  {
   "cell_type": "markdown",
   "metadata": {},
   "source": [
    "### Using Pint\n",
    "\n",
    "LEOrbit uses the [`pint`](https://pint.readthedocs.io/en/0.10.1/index.html) library to handle physical quantities. It handles units and dimensions in a very practical way and prevent any units mistakes.\n",
    "\n",
    "If you do not know `pint`, we suggest you take 5min to take a look at the main features of this library"
   ]
  },
  {
   "cell_type": "code",
   "execution_count": 1,
   "metadata": {},
   "outputs": [
    {
     "data": {
      "text/plain": [
       "(3.4 <Unit('second')>,\n",
       " 3.7258333333333336 <Unit('hour')>,\n",
       " 3.45 <Unit('kilometer')>)"
      ]
     },
     "execution_count": 1,
     "metadata": {},
     "output_type": "execute_result"
    }
   ],
   "source": [
    "from leorbit import Q_ # We import the `Quantity` object that uses the library's units registry\n",
    "\n",
    "Q_(\"3.4s\"), Q_(\"3hour+43min+33s\"), Q_(\"3.45km\")"
   ]
  },
  {
   "cell_type": "markdown",
   "metadata": {},
   "source": [
    "### Getting GP data (orbital elements)\n",
    "\n",
    "The first thing to do when one wants to make satellite predictions, is to gather the latest orbital elements, also known as GP (Ground Perturbations) data.\n",
    "To do this, we use [celestrag.org](https://celestrak.org) and their API.\n",
    "\n",
    "Using LEOrbit, there are currently 3 ways to create orbital elements:\n",
    "\n",
    "* From GP data that you manually fetched on Celestrak\n",
    "* From state vectors at given epoch\n",
    "* ~~From a TLE (Two Line Elements)~~ outdated format...\n",
    "* Automatically with just the satellite's NORAD catalog ID"
   ]
  },
  {
   "cell_type": "markdown",
   "metadata": {},
   "source": [
    "##### From existant GP data dictionary\n",
    "\n",
    "If you already have the GP data that you want to use (in Celestrak's format), you can easily create a `OrbitalElements` out of it:"
   ]
  },
  {
   "cell_type": "code",
   "execution_count": 2,
   "metadata": {},
   "outputs": [
    {
     "name": "stdout",
     "output_type": "stream",
     "text": [
      "OrbitalElements(epoch=<Time unixepoch=1711541632.819968>, eccentricity=<Quantity(0.0004676, 'dimensionless')>, inclination=<Quantity(51.6411, 'degree')>, ra_of_asc_node=<Quantity(0.3077, 'degree')>, arg_of_pericenter=<Quantity(8.9972, 'degree')>, mean_motion=<Quantity(15.4960973, 'turn / day')>, mean_anomaly=<Quantity(162.1343, 'degree')>, mean_motion_dot=<Quantity(0.00070634, 'turn / day ** 2')>, mean_motion_ddot=<Quantity(0, 'turn / day ** 3')>, bstar=<Quantity(0.0006325, '1 / earthRadii')>, name='ISS (ZARYA)', norad_cat_id=25544, eccentric_anomaly=<Quantity(162.142516, 'degree')>, true_anomaly=2.830064112989053, semi_major_axis=<Quantity(6796003.88, 'meter')>, semi_minor_axis=<Quantity(6796003.14, 'meter')>, time_at_periaster=<Time unixepoch=1711539121.7211266>)\n"
     ]
    }
   ],
   "source": [
    "from leorbit import OrbitalElements\n",
    "\n",
    "gp_data_celestrak = { # NOTE: good GP for this walkthrough\n",
    "    \"OBJECT_NAME\": \"ISS (ZARYA)\",\n",
    "    \"OBJECT_ID\": \"1998-067A\",\n",
    "    \"EPOCH\": \"2024-03-27T12:13:52.819968\",\n",
    "    \"MEAN_MOTION\": 15.49609731,\n",
    "    \"ECCENTRICITY\": 0.0004676,\n",
    "    \"INCLINATION\": 51.6411,\n",
    "    \"RA_OF_ASC_NODE\": 0.3077,\n",
    "    \"ARG_OF_PERICENTER\": 8.9972,\n",
    "    \"MEAN_ANOMALY\": 162.1343,\n",
    "    \"EPHEMERIS_TYPE\": 0,\n",
    "    \"CLASSIFICATION_TYPE\": \"U\",\n",
    "    \"NORAD_CAT_ID\": 25544,\n",
    "    \"ELEMENT_SET_NO\": 999,\n",
    "    \"REV_AT_EPOCH\": 44587,\n",
    "    \"BSTAR\": 0.0006325,\n",
    "    \"MEAN_MOTION_DOT\": 0.00035317,\n",
    "    \"MEAN_MOTION_DDOT\": 0\n",
    "}\n",
    "\n",
    "gp_data_iss = OrbitalElements.from_celestrak_json(gp_data_celestrak)\n",
    "print(gp_data_iss)"
   ]
  },
  {
   "cell_type": "markdown",
   "metadata": {},
   "source": [
    "#### From state vectors\n",
    "\n",
    "You may have a state vector (aka. position and velocity in a given frame) of your satellite at a given time, that you want to propagate.\n",
    "\n",
    "You can indeed create a `OrbitalElements` object out of it, but **be careful,** doing so discards any information about *drag* and the resulting propagation will be prone to errors quickly!\n",
    "\n",
    "This way of creating orbital elements is therefore not recommended, and for users that know what they are doing."
   ]
  },
  {
   "cell_type": "code",
   "execution_count": 3,
   "metadata": {},
   "outputs": [
    {
     "name": "stdout",
     "output_type": "stream",
     "text": [
      "OrbitalElements(epoch=<Time unixepoch=1711551131.348683>, eccentricity=<Quantity(0.00058293828, 'dimensionless')>, inclination=<Quantity(0.901098337, 'radian')>, ra_of_asc_node=<Quantity(6.27942891, 'radian')>, arg_of_pericenter=<Quantity(1.64322154, 'radian')>, mean_motion=<Quantity(0.00112804511, 'radian / second')>, mean_anomaly=<Quantity(5.77189767, 'radian')>, mean_motion_dot=<Quantity(0.0, 'radian / second ** 2')>, mean_motion_ddot=<Quantity(0.0, 'radian / second ** 3')>, bstar=<Quantity(0.0, '1 / meter')>, name='No name', norad_cat_id=None, eccentric_anomaly=<Quantity(5.77161229, 'radian')>, true_anomaly=-0.5118584642539967, semi_major_axis=<Quantity(6791436.02, 'meter')>, semi_minor_axis=<Quantity(6791434.86, 'meter')>, time_at_periaster=<Time unixepoch=1711546014.6227539>)\n"
     ]
    }
   ],
   "source": [
    "from leorbit import Coordinates, Vec3, Time, AbsoluteFrame\n",
    "\n",
    "t0 = Time.fromisoformat(\"2024-03-27T14:52:11.348683+00:00\")\n",
    "pos_gcrf = Vec3(x=Q_(2902093, \"m\"), y=Q_(3802436, \"m\"), z=Q_(4816229, \"m\"))\n",
    "vel_gcrf = Vec3(x=Q_(-6930, \"m/s\"), y=Q_(2049, \"m/s\"), z=Q_(2555, \"m/s\"))\n",
    "c = Coordinates(AbsoluteFrame.GCRF, pos_gcrf, vel_gcrf, t0)\n",
    "\n",
    "gp_data_iss = OrbitalElements.from_state_vectors(c)\n",
    "print(gp_data_iss)"
   ]
  },
  {
   "cell_type": "markdown",
   "metadata": {},
   "source": [
    "#### From NORAD catalog ID\n",
    "\n",
    "The fastest and easiest way: LEOrbit and fetch automatically the latest GP data of a satellite on Celestrak just with its NORAD catalog ID:"
   ]
  },
  {
   "cell_type": "code",
   "execution_count": 4,
   "metadata": {},
   "outputs": [
    {
     "name": "stdout",
     "output_type": "stream",
     "text": [
      "OrbitalElements(epoch=<Time unixepoch=1711600276.89168>, eccentricity=<Quantity(0.0004611, 'dimensionless')>, inclination=<Quantity(51.6398, 'degree')>, ra_of_asc_node=<Quantity(356.9526, 'degree')>, arg_of_pericenter=<Quantity(12.1144, 'degree')>, mean_motion=<Quantity(15.4963634, 'turn / day')>, mean_anomaly=<Quantity(347.9955, 'degree')>, mean_motion_dot=<Quantity(0.00054178, 'turn / day ** 2')>, mean_motion_ddot=<Quantity(0, 'turn / day ** 3')>, bstar=<Quantity(0.00048707, '1 / earthRadii')>, name='ISS (ZARYA)', norad_cat_id=25544, eccentric_anomaly=<Quantity(347.990003, 'degree')>, true_anomaly=-0.2097099652554939, semi_major_axis=<Quantity(6795926.08, 'meter')>, semi_minor_axis=<Quantity(6795925.36, 'meter')>, time_at_periaster=<Time unixepoch=1711594887.309764>)\n"
     ]
    }
   ],
   "source": [
    "from leorbit import OrbitalElements\n",
    "\n",
    "gp_data_iss = OrbitalElements.from_celestrak_norad_cat_id(25544)\n",
    "print(gp_data_iss)"
   ]
  },
  {
   "cell_type": "markdown",
   "metadata": {},
   "source": [
    "*Info: LEOrbit fetches GP data on Celestrak's API every hours, and stores locally the last fetched data, to avoid API's spam.*"
   ]
  },
  {
   "cell_type": "markdown",
   "metadata": {},
   "source": [
    "### Create a propagator\n",
    "\n",
    "With the latest GP data, we can now create a propagator to propagate in time the orbital elements. There are currently two propagators in LEOrbit:\n",
    "* `SGP4`: most used propagator for satellite propagation, good accuracy with inclusion of perturbations due to drag and more.\n",
    "* the `NoPropagator` propagator: it just propagates the mean anomaly $ M $ on the given ellipsis without perturbating it. You may find uses for it"
   ]
  },
  {
   "cell_type": "code",
   "execution_count": 5,
   "metadata": {},
   "outputs": [],
   "source": [
    "from leorbit import SGP4\n",
    "\n",
    "iss_sgp4 = SGP4(gp_data_iss)"
   ]
  },
  {
   "cell_type": "markdown",
   "metadata": {},
   "source": [
    "And this would be enough to already find coordinates at later time of ISS. \n",
    "LEOrbit also implements a class to handle time in a very efficient way:"
   ]
  },
  {
   "cell_type": "code",
   "execution_count": 6,
   "metadata": {},
   "outputs": [
    {
     "data": {
      "text/plain": [
       "<Coordinates: epoch=2024-03-28 at 11:08:53, Vec3(x=-1039568.6684180843 meter, y=4221981.141827323 meter, z=5213746.451572311 meter) in AbsoluteFrame.GCRF>"
      ]
     },
     "execution_count": 6,
     "metadata": {},
     "output_type": "execute_result"
    }
   ],
   "source": [
    "now = Time.now()\n",
    "iss_sgp4.propagate(now)"
   ]
  },
  {
   "cell_type": "markdown",
   "metadata": {},
   "source": [
    "But you would rather use the `Satellite` class wrapper that makes it more elegant to compute coordinates"
   ]
  },
  {
   "cell_type": "code",
   "execution_count": 7,
   "metadata": {},
   "outputs": [
    {
     "name": "stdout",
     "output_type": "stream",
     "text": [
      "<Satellite name='ISS' t₀='2024-03-28 at 04:31:16' [SGP4]>\n"
     ]
    }
   ],
   "source": [
    "from leorbit import Satellite\n",
    "\n",
    "iss = Satellite(iss_sgp4, \"ISS\", 25544)\n",
    "print(iss)"
   ]
  },
  {
   "cell_type": "markdown",
   "metadata": {},
   "source": [
    "### The wrapper that does everything automatically: `get_sat`\n",
    "\n",
    "As you can see, LEOrbit allows you to manually create a `OrbitalElements` object, makes you choose your `Propagator` and then you have to instantiate the `Satellite` class.\n",
    "\n",
    "But in reality, you'd only want to do this manually for specific use cases, and 95% of the time, you will always:\n",
    "\n",
    "* Know your satellite's NORAD catalog ID\n",
    "* Want to gather the **latest** GP for your satellite\n",
    "* Want to use the SGP4 propagator\n",
    "\n",
    "Therefore, you will want to use the `get_sat` function that takes your satellite's ID as an argument, and returns the corresponding `Satellite` object with the latest GP data, and the SGP4 propagator"
   ]
  },
  {
   "cell_type": "code",
   "execution_count": 8,
   "metadata": {},
   "outputs": [
    {
     "name": "stdout",
     "output_type": "stream",
     "text": [
      "<Satellite name='ISS (ZARYA)' t₀='2024-03-28 at 04:31:16' [SGP4]>\n"
     ]
    }
   ],
   "source": [
    "from leorbit import get_sat\n",
    "\n",
    "iss: Satellite = get_sat(25544)\n",
    "print(iss)"
   ]
  },
  {
   "cell_type": "markdown",
   "metadata": {},
   "source": [
    "Now, you can find the coordinates of your satellite at any time!"
   ]
  },
  {
   "cell_type": "code",
   "execution_count": 9,
   "metadata": {},
   "outputs": [
    {
     "data": {
      "text/plain": [
       "<Coordinates: epoch=2024-03-28 at 14:21:26, Vec3(x=-3877028.346550973 meter, y=3677847.4402091783 meter, z=4192135.9582483764 meter) in AbsoluteFrame.GCRF>"
      ]
     },
     "execution_count": 9,
     "metadata": {},
     "output_type": "execute_result"
    }
   ],
   "source": [
    "iss.coordinates(now + Q_(\"3hour + 12min + 33s\"))"
   ]
  },
  {
   "cell_type": "markdown",
   "metadata": {},
   "source": [
    "## Coordinates and frames transformations\n",
    "\n",
    "One of the best features of LEOrbit is easy coordinates conversions from/to any frames.\n",
    "\n",
    "Many other Python libraries would return, as a result of the propagation of your GP data, a tuple or a list with floats, that you would just guess their units and meaning.\n",
    "\n",
    "With LEOrbit, when you request your satellite's position at any time, you get a `Coordinate` object:"
   ]
  },
  {
   "cell_type": "code",
   "execution_count": 10,
   "metadata": {},
   "outputs": [
    {
     "name": "stdout",
     "output_type": "stream",
     "text": [
      "<Coordinates: epoch=2024-03-31 at 05:09:42, Vec3(x=5435610.979107603 meter, y=-3506597.9150513527 meter, z=-2084100.6981637124 meter) in AbsoluteFrame.GCRF>\n"
     ]
    }
   ],
   "source": [
    "t: Time = now + Q_(\"2 day + 18 hour + 49 seconds\")\n",
    "c: Coordinates = iss.coordinates(t)\n",
    "print(c)"
   ]
  },
  {
   "cell_type": "markdown",
   "metadata": {},
   "source": [
    "And now what if you want to retrieve the vector corresponding to the position at the given time, in GCRF, or ITRF? GPS?"
   ]
  },
  {
   "cell_type": "code",
   "execution_count": 11,
   "metadata": {},
   "outputs": [
    {
     "data": {
      "text/plain": [
       "Vec3(x=5435610.979107603 meter, y=-3506597.9150513527 meter, z=-2084100.6981637124 meter)"
      ]
     },
     "execution_count": 11,
     "metadata": {},
     "output_type": "execute_result"
    }
   ],
   "source": [
    "c.to_gcrf()"
   ]
  },
  {
   "cell_type": "code",
   "execution_count": 12,
   "metadata": {},
   "outputs": [
    {
     "data": {
      "text/plain": [
       "Vec3(x=3168120.2269536434 meter, y=5639601.925810439 meter, z=-2084100.6981637124 meter)"
      ]
     },
     "execution_count": 12,
     "metadata": {},
     "output_type": "execute_result"
    }
   ],
   "source": [
    "c.to_itrf()"
   ]
  },
  {
   "cell_type": "code",
   "execution_count": 13,
   "metadata": {},
   "outputs": [
    {
     "data": {
      "text/plain": [
       "GPSCoordinates(longitude_deg=60.67432993930043, latitude_deg=-17.858418750188044)"
      ]
     },
     "execution_count": 13,
     "metadata": {},
     "output_type": "execute_result"
    }
   ],
   "source": [
    "c.to_gps()"
   ]
  },
  {
   "cell_type": "markdown",
   "metadata": {},
   "source": [
    "As simple as that!\n",
    "\n",
    "The `Coordinates` object contains all the information about the coordinates, as it should be. Vectors are just a projection of those coordinates in a particular frame.\n",
    "\n",
    "It makes more sense in a physical point of view, and the implementation is very *Pythonesque.*"
   ]
  },
  {
   "cell_type": "markdown",
   "metadata": {},
   "source": [
    "### \"Absolute\" and \"Relative\" frames\n",
    "\n",
    "LEOrbit handles the `GCRF (Geocentric Celestial Reference Frame)` and `ITRF (International Terrestrial Reference Frame)`, the most useful frames for LEO (Low Earth Orbit). \n",
    "\n",
    "Their are called `AbsoluteFrame` in LEOrbit since their are well defined from physical entities (like Earth and Sun).\n",
    "\n",
    "The user can also create its own frames, and those would be `RelativeFrame` since they would be defined from an `AbsoluteFrame`.\n",
    "\n",
    "Let's create a relative frame from a location on Earth, Paris (France) for example:"
   ]
  },
  {
   "cell_type": "code",
   "execution_count": 14,
   "metadata": {},
   "outputs": [
    {
     "name": "stdout",
     "output_type": "stream",
     "text": [
      "<EarthLocalFrame at GPS location 48.0° 52.0′ 0.0″ N, 2.0° 19.0′ 59.0″ E>\n"
     ]
    }
   ],
   "source": [
    "from leorbit import GPSCoordinates\n",
    "\n",
    "gps_paris = GPSCoordinates(2.333333, 48.866667, 0., \"Paris (FR)\")\n",
    "frame_paris = gps_paris.earth_local_frame()\n",
    "print(frame_paris)"
   ]
  },
  {
   "cell_type": "markdown",
   "metadata": {},
   "source": [
    "You can now get the projection of your previous coordinates in this relative frame:"
   ]
  },
  {
   "cell_type": "code",
   "execution_count": 15,
   "metadata": {},
   "outputs": [
    {
     "data": {
      "text/plain": [
       "Vec3(x=-3928073.167027774 meter, y=5505942.054327796 meter, z=-5703129.055466725 meter)"
      ]
     },
     "execution_count": 15,
     "metadata": {},
     "output_type": "execute_result"
    }
   ],
   "source": [
    "c.pos_in_frame(frame_paris)"
   ]
  },
  {
   "cell_type": "markdown",
   "metadata": {},
   "source": [
    "*See the definition of `EarthLocalFrame` axises*\n",
    "\n",
    "The most use for a `EarthLocalFrame` is the [horizontal coordinates](https://en.wikipedia.org/wiki/Horizontal_coordinate_system). Using a `EarthLocalFrame` or even just a `GPSCoordinates`, you can get the projection of any positon in Horizontal Coordinates (at given location):"
   ]
  },
  {
   "cell_type": "code",
   "execution_count": 16,
   "metadata": {},
   "outputs": [
    {
     "data": {
      "text/plain": [
       "HorizontalCoordinates(azimuth_deg=125.50498533980455, altitude_deg=-40.13823963903124)"
      ]
     },
     "execution_count": 16,
     "metadata": {},
     "output_type": "execute_result"
    }
   ],
   "source": [
    "c.to_horizontal_coordinates(gps_paris)"
   ]
  },
  {
   "cell_type": "markdown",
   "metadata": {},
   "source": [
    "*NB: if the 'altitude' is negative, it means the satellite is not visible in your sky*\n",
    "\n",
    "## Make a simulation\n",
    "\n",
    "You have all the tools to generate a full trajectory of your satellite over a given period of time!\n",
    "\n",
    "Let's make a \"CSV like\" file to illustrate:"
   ]
  },
  {
   "cell_type": "code",
   "execution_count": 17,
   "metadata": {},
   "outputs": [
    {
     "name": "stdout",
     "output_type": "stream",
     "text": [
      "              Time in ISO format\tX (ITRF)\tY (ITRF)\tZ (ITRF)\n",
      "2024-03-28T11:08:53.268085+00:00\t-01504869\t004079362\t005213746\n",
      "2024-03-28T12:08:53.268085+00:00\t005520451\t-03201648\t-02337694\n",
      "2024-03-28T13:08:53.268085+00:00\t-06244536\t001224509\t-02402526\n",
      "2024-03-28T14:08:53.268085+00:00\t003770973\t002123581\t005228977\n",
      "2024-03-28T15:08:53.268085+00:00\t-00363206\t-05504290\t-03973523\n",
      "2024-03-28T16:08:53.268085+00:00\t-02168462\t006430828\t-00429074\n",
      "2024-03-28T17:08:53.268085+00:00\t003571590\t-03655169\t004467672\n",
      "2024-03-28T18:08:53.268085+00:00\t-04426776\t-01197855\t-05020880\n",
      "2024-03-28T19:08:53.268085+00:00\t004341126\t004977249\t001607660\n",
      "2024-03-28T20:08:53.268085+00:00\t-02257482\t-05634322\t003042575\n",
      "2024-03-28T21:08:53.268085+00:00\t-01819174\t003818041\t-05326493\n",
      "2024-03-28T22:08:53.268085+00:00\t005727144\t-01325721\t003405589\n",
      "2024-03-28T23:08:53.268085+00:00\t-06642026\t-00810773\t001165291\n",
      "2024-03-29T00:08:53.268085+00:00\t003796258\t002893388\t-04846335\n",
      "2024-03-29T01:08:53.268085+00:00\t000781026\t-04840335\t004698089\n",
      "2024-03-29T02:08:53.268085+00:00\t-04083929\t005357696\t-00884994\n",
      "2024-03-29T03:08:53.268085+00:00\t004883020\t-03015976\t-03651334\n",
      "2024-03-29T04:08:53.268085+00:00\t-03935975\t-01601065\t005293771\n",
      "2024-03-29T05:08:53.268085+00:00\t002465977\t005679481\t-02803672\n",
      "2024-03-29T06:08:53.268085+00:00\t-00482982\t-06507730\t-01917312\n",
      "2024-03-29T07:08:53.268085+00:00\t-02351138\t003805820\t005104516\n",
      "2024-03-29T08:08:53.268085+00:00\t005259198\t000126829\t-04306876\n",
      "2024-03-29T09:08:53.268085+00:00\t-06116307\t-02968487\t000099979\n",
      "2024-03-29T10:08:53.268085+00:00\t003507593\t004060095\t004158226\n",
      "2024-03-29T11:08:53.268085+00:00\t001354161\t-04200614\t-05173672\n"
     ]
    }
   ],
   "source": [
    "from leorbit import Timeline\n",
    "\n",
    "tl = Timeline(start=now, stop=now + Q_(\"1 day\"), dt=Q_(\"1h\")) # You would rather use something like dt=5s for real use cases\n",
    "cs: list[Coordinates] = iss.simulation(tl)\n",
    "print(f\"              Time in ISO format\tX (ITRF)\tY (ITRF)\tZ (ITRF)\")\n",
    "for c in cs:\n",
    "    p = c.to_itrf()\n",
    "    print(f\"{c.epoch.isoformat}\t{p.x.m_as('m'):09.0f}\t{p.y.m_as('m'):09.0f}\t{p.z.m_as('m'):09.0f}\")"
   ]
  },
  {
   "cell_type": "markdown",
   "metadata": {},
   "source": [
    "*NB: each call to `coordinates` is stored in memory using `lru_cache`, so that once a coordinate at given epoch is computed, recalling the function with the same epoch does not recompute everything*"
   ]
  },
  {
   "cell_type": "markdown",
   "metadata": {},
   "source": [
    "## Events computation\n",
    "\n",
    "You may need to access certain information over a simulation, such as:\n",
    "* When is it night time at a given location on Earth?\n",
    "* When is the Moon visible from the satellite?\n",
    "* When is the satellite visible from a given location on Earth?\n",
    "\n",
    "To answer those question, you can use `AstroEvent` objects.\n",
    "\n",
    "In LEOrbit, an event is a class inheriting from the `AstroEvent` parent class.\n",
    "They can have any arguments in their initializer.\n",
    "They implement a `predicate(self, epoch: Time) -> bool` method, that returns `True` if the condition is met at the given epoch, aka if the event occurs at given epoch.\n",
    "\n",
    "And most importantly, they implement the `compute_intervals(self, over: Timeline) -> list[Timeline]` method that returns all the time intervals when the event is met.\n",
    "\n",
    "LEOrbit has a few buil-in events, and you can very easily create custom events!\n",
    "\n",
    "For this example, let's say you want to know when the ISS is visible from Paris. You can do:"
   ]
  },
  {
   "cell_type": "code",
   "execution_count": 18,
   "metadata": {},
   "outputs": [
    {
     "data": {
      "text/plain": [
       "[\"Timeline: from '2024-03-28 at 14:01:33' to '2024-03-28 at 14:07:28', duration=5 min 55 s\",\n",
       " \"Timeline: from '2024-03-28 at 15:37:43' to '2024-03-28 at 15:44:28', duration=6 min 45 s\",\n",
       " \"Timeline: from '2024-03-28 at 17:14:48' to '2024-03-28 at 17:21:23', duration=6 min 35 s\",\n",
       " \"Timeline: from '2024-03-28 at 18:51:38' to '2024-03-28 at 18:58:23', duration=6 min 45 s\",\n",
       " \"Timeline: from '2024-03-28 at 20:29:03' to '2024-03-28 at 20:33:43', duration=4 min 40 s\",\n",
       " \"Timeline: from '2024-03-29 at 13:14:08' to '2024-03-29 at 13:19:03', duration=4 min 55 s\",\n",
       " \"Timeline: from '2024-03-29 at 14:49:38' to '2024-03-29 at 14:56:23', duration=6 min 45 s\",\n",
       " \"Timeline: from '2024-03-29 at 16:26:38' to '2024-03-29 at 16:33:13', duration=6 min 35 s\",\n",
       " \"Timeline: from '2024-03-29 at 18:03:33' to '2024-03-29 at 18:10:18', duration=6 min 45 s\",\n",
       " \"Timeline: from '2024-03-29 at 19:40:38' to '2024-03-29 at 19:46:18', duration=5 min 40 s\",\n",
       " \"Timeline: from '2024-03-30 at 12:27:03' to '2024-03-30 at 12:30:18', duration=3 min 15 s\",\n",
       " \"Timeline: from '2024-03-30 at 14:01:33' to '2024-03-30 at 14:08:13', duration=6 min 40 s\",\n",
       " \"Timeline: from '2024-03-30 at 15:38:23' to '2024-03-30 at 15:45:03', duration=6 min 40 s\",\n",
       " \"Timeline: from '2024-03-30 at 17:15:23' to '2024-03-30 at 17:22:03', duration=6 min 40 s\",\n",
       " \"Timeline: from '2024-03-30 at 18:52:18' to '2024-03-30 at 18:58:33', duration=6 min 15 s\",\n",
       " \"Timeline: from '2024-03-31 at 13:13:38' to '2024-03-31 at 13:19:58', duration=6 min 20 s\",\n",
       " \"Timeline: from '2024-03-31 at 14:50:08' to '2024-03-31 at 14:56:48', duration=6 min 40 s\",\n",
       " \"Timeline: from '2024-03-31 at 16:27:13' to '2024-03-31 at 16:33:48', duration=6 min 35 s\",\n",
       " \"Timeline: from '2024-03-31 at 18:03:58' to '2024-03-31 at 18:10:38', duration=6 min 40 s\",\n",
       " \"Timeline: from '2024-03-31 at 19:42:13' to '2024-03-31 at 19:44:48', duration=2 min 35 s\",\n",
       " \"Timeline: from '2024-04-01 at 12:25:43' to '2024-04-01 at 12:31:33', duration=5 min 50 s\",\n",
       " \"Timeline: from '2024-04-01 at 14:01:53' to '2024-04-01 at 14:08:33', duration=6 min 40 s\",\n",
       " \"Timeline: from '2024-04-01 at 15:38:53' to '2024-04-01 at 15:45:28', duration=6 min 35 s\",\n",
       " \"Timeline: from '2024-04-01 at 17:15:43' to '2024-04-01 at 17:22:28', duration=6 min 45 s\",\n",
       " \"Timeline: from '2024-04-01 at 18:53:03' to '2024-04-01 at 18:57:48', duration=4 min 45 s\"]"
      ]
     },
     "execution_count": 18,
     "metadata": {},
     "output_type": "execute_result"
    }
   ],
   "source": [
    "from leorbit import VisibleFromLocation\n",
    "\n",
    "# Event corresponding to the visibility of ISS from Paris\n",
    "visi_event = VisibleFromLocation(iss, gps_paris) \n",
    "\n",
    "# When will the ISS be visible from Paris in the next 5 days?\n",
    "tl = Timeline(now, now + Q_(\"5 day\"), Q_(\"5s\"))\n",
    "intervals: list[Timeline] = visi_event.compute_intervals(tl)\n",
    "[interval.human for interval in intervals]\n"
   ]
  },
  {
   "cell_type": "markdown",
   "metadata": {},
   "source": [
    "But sometimes, a single event is not enough, and you would like to know when two (or more) events are happening at the same time.\n",
    "\n",
    "For this example, let's say you want to know when the ISS is visible from Paris, AND when it is night time in Paris (so that you could try to observe it, for instance).\n",
    "\n",
    "`AstroEvent` objects implement **intersections** and **unions** for this purpose:"
   ]
  },
  {
   "cell_type": "code",
   "execution_count": 19,
   "metadata": {},
   "outputs": [
    {
     "data": {
      "text/plain": [
       "[\"Timeline: from '2024-03-28 at 18:51:38' to '2024-03-28 at 18:58:23', duration=6 min 45 s\",\n",
       " \"Timeline: from '2024-03-28 at 20:29:03' to '2024-03-28 at 20:33:43', duration=4 min 40 s\",\n",
       " \"Timeline: from '2024-03-29 at 18:03:33' to '2024-03-29 at 18:10:18', duration=6 min 45 s\",\n",
       " \"Timeline: from '2024-03-29 at 19:40:38' to '2024-03-29 at 19:46:18', duration=5 min 40 s\",\n",
       " \"Timeline: from '2024-03-30 at 18:52:18' to '2024-03-30 at 18:58:33', duration=6 min 15 s\",\n",
       " \"Timeline: from '2024-03-31 at 18:03:58' to '2024-03-31 at 18:10:38', duration=6 min 40 s\",\n",
       " \"Timeline: from '2024-03-31 at 19:42:13' to '2024-03-31 at 19:44:48', duration=2 min 35 s\",\n",
       " \"Timeline: from '2024-04-01 at 18:53:03' to '2024-04-01 at 18:57:48', duration=4 min 45 s\"]"
      ]
     },
     "execution_count": 19,
     "metadata": {},
     "output_type": "execute_result"
    }
   ],
   "source": [
    "from leorbit import AstroEvent, NightTime\n",
    "\n",
    "# Event corresponding to night time in Paris\n",
    "night_event = NightTime(gps_paris)\n",
    "\n",
    "# This event corresponds to when the ISS is visible from paris AND when it is night time in Paris!\n",
    "visi_and_night_event: AstroEvent = visi_event & night_event\n",
    "intervals: list[Timeline] = visi_and_night_event.compute_intervals(tl)\n",
    "[interval.human for interval in intervals]"
   ]
  },
  {
   "cell_type": "markdown",
   "metadata": {},
   "source": [
    "NB: you can also compute *a posteriori* the intersection of two sets of timelines with `get_intersections_timelines`, but the other method is prefered."
   ]
  }
 ],
 "metadata": {
  "kernelspec": {
   "display_name": "venv",
   "language": "python",
   "name": "python3"
  },
  "language_info": {
   "codemirror_mode": {
    "name": "ipython",
    "version": 3
   },
   "file_extension": ".py",
   "mimetype": "text/x-python",
   "name": "python",
   "nbconvert_exporter": "python",
   "pygments_lexer": "ipython3",
   "version": "3.12.2"
  }
 },
 "nbformat": 4,
 "nbformat_minor": 2
}
